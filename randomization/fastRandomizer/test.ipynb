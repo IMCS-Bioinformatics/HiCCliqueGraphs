{
 "cells": [
  {
   "cell_type": "markdown",
   "metadata": {},
   "source": [
    "# Analyze randomized graphs"
   ]
  },
  {
   "cell_type": "code",
   "execution_count": 34,
   "metadata": {},
   "outputs": [],
   "source": [
    "import csv\n",
    "from scipy.stats import ks_2samp"
   ]
  },
  {
   "cell_type": "markdown",
   "metadata": {},
   "source": [
    "## Analyze link lists"
   ]
  },
  {
   "cell_type": "markdown",
   "metadata": {},
   "source": [
    "### Perform Kolmogorov-Smirnov test"
   ]
  },
  {
   "cell_type": "code",
   "execution_count": 35,
   "metadata": {},
   "outputs": [],
   "source": [
    "def getKS(fnOriginal, fnRandomized):\n",
    "    L = []\n",
    "    with open(fnOriginal, newline='') as csvfile:\n",
    "        spamreader = csv.reader(csvfile, delimiter=',', quotechar='|')\n",
    "        for row in spamreader:\n",
    "            L.append([  int(row[0]), int(row[1])   ])\n",
    "    R = []\n",
    "    with open(fnRandomized, newline='') as csvfile:\n",
    "        spamreader = csv.reader(csvfile, delimiter=',', quotechar='|')\n",
    "        for row in spamreader:\n",
    "            R.append([  int(row[0]), int(row[1])   ])\n",
    "\n",
    "    lL = sorted([link[1]-link[0] for link in L])\n",
    "    lR = sorted([link[1]-link[0] for link in R])\n",
    "\n",
    "    rez = ks_2samp(lL, lR)\n",
    "    return rez"
   ]
  },
  {
   "cell_type": "markdown",
   "metadata": {},
   "source": [
    "## Analyze cool files"
   ]
  },
  {
   "cell_type": "code",
   "execution_count": 36,
   "metadata": {},
   "outputs": [],
   "source": [
    "import cooler\n",
    "import pandas as pd\n",
    "import numpy as np\n",
    "import h5py\n",
    "import hicrep\n",
    "from hicrep.utils import readMcool\n",
    "from hicrep import hicrepSCC"
   ]
  },
  {
   "cell_type": "code",
   "execution_count": 37,
   "metadata": {},
   "outputs": [],
   "source": [
    "fnOriginal = \"./sampleCool.cool\"\n",
    "fnRandomized = \"./sampleRandomizedCool.cool\"\n",
    "pv=4 \n",
    "chr=\"chr15\" #these params were used in randomization\n",
    "\n",
    "def getKSCool(fnOriginal, fnRandomized, pv, chr):\n",
    "    def getL(inputPath, chr, pv):\n",
    "        #Returns (extracts) a list of links from cool file\n",
    "        cool = cooler.Cooler(inputPath)\n",
    "        bins = cool.bins()[:].to_dict('records')\n",
    "        rows = []\n",
    "        pixels = cool.pixels()[:].to_dict('records')\n",
    "        #print(pixels)\n",
    "        for px in pixels:\n",
    "            if px[\"count\"] > pv:\n",
    "                a = bins[px[\"bin1_id\"]]\n",
    "                b = bins[px[\"bin2_id\"]]\n",
    "                if str(a[\"chrom\"]) == chr and str(b[\"chrom\"]) == chr:\n",
    "                    link = ((a[\"start\"] + a[\"end\"]) // 2,\n",
    "                            (b[\"start\"] + b[\"end\"]) // 2)\n",
    "                    rows.append(link)\n",
    "        \n",
    "        return [list(el) for el in rows]\n",
    "\n",
    "    L = getL(fnOriginal, chr, pv)\n",
    "    R = getL(fnRandomized, chr, pv)\n",
    "\n",
    "    lL = sorted([link[1]-link[0] for link in L])\n",
    "    lR = sorted([link[1]-link[0] for link in R])\n",
    "\n",
    "    rez = ks_2samp(lL, lR)\n",
    "    return rez"
   ]
  },
  {
   "cell_type": "code",
   "execution_count": 38,
   "metadata": {},
   "outputs": [],
   "source": [
    "\n",
    "def doHiCRep(fcool1, fcool2, chrs):\n",
    "    \n",
    "    cool1, binSize1 = readMcool(fcool1, -1)\n",
    "    cool2, binSize2 = readMcool(fcool2, -1)\n",
    "    # binSize1 and binSize2 will be set to the bin size built in the cool file\n",
    "    binSize = binSize1\n",
    "    # smoothing window half-size\n",
    "    h = 1\n",
    "\n",
    "    # maximal genomic distance to include in the calculation\n",
    "    dBPMax = 50000000\n",
    "\n",
    "    # whether to perform down-sampling or not \n",
    "    # if set True, it will bootstrap the data set # with larger contact counts to\n",
    "    # the same number of contacts as in the other data set; otherwise, the contact \n",
    "    # matrices will be normalized by the respective total number of contacts\n",
    "    bDownSample = False\n",
    "\n",
    "    # compute the SCC score\n",
    "    # this will result in a SCC score for each chromosome available in the data set\n",
    "    # listed in the same order as the chromosomes are listed in the input Cooler files\n",
    "    # scc = hicrepSCC(cool1, cool2, h, dBPMax, bDownSample)\n",
    "\n",
    "    # Optionally you can get SCC score from a subset of chromosomes\n",
    "    sccSub = hicrepSCC(cool1, cool2, h, dBPMax, bDownSample, np.array(chrs, dtype=str))\n",
    "    #print(sccSub)\n",
    "    return sccSub\n",
    "\n",
    "\n",
    "\n"
   ]
  },
  {
   "cell_type": "code",
   "execution_count": null,
   "metadata": {},
   "outputs": [],
   "source": [
    "\n",
    "\n",
    "\n"
   ]
  },
  {
   "cell_type": "code",
   "execution_count": null,
   "metadata": {},
   "outputs": [],
   "source": []
  },
  {
   "cell_type": "code",
   "execution_count": 40,
   "metadata": {},
   "outputs": [
    {
     "name": "stdout",
     "output_type": "stream",
     "text": [
      "KS score: KstestResult(statistic=0.0015917963841088345, pvalue=0.9999991662600691)\n",
      "KstestResult(statistic=0.010612177638625653, pvalue=0.0021373712325705504)\n",
      "[0.36412353]\n",
      "KstestResult(statistic=0.00919890752500796, pvalue=0.012738090332724203)\n",
      "[0.09935032]\n"
     ]
    }
   ],
   "source": [
    "#Sample links example\n",
    "fnOriginal = \"./sampleOriginalLinks.csv\"\n",
    "fnRandomized = \"./myRandomizedLinks.csv\"\n",
    "print(\"KS score:\", getKS(fnOriginal, fnRandomized))\n",
    "\n",
    "#Full schwarzer dataset, analyze chr15\n",
    "fnOriginal = \"./sampleCool.cool\"\n",
    "fnRandomized = \"./sampleRandomizedCool.cool\"\n",
    "pv=4 \n",
    "chr=\"chr15\" #these params were used in randomization\n",
    "print(getKSCool(fnOriginal, fnRandomized, pv, chr))\n",
    "print(doHiCRep(fnOriginal, fnRandomized, [chr]))\n",
    "\n",
    "\n",
    "#sample cool chr15 with only significant (count>4) links example\n",
    "fnOriginal = \"./schwarzerChr15Sample.cool\"\n",
    "fnRandomized = \"./schwarzerChr15Randomized80.cool\"\n",
    "chr=\"15\"\n",
    "pv=4\n",
    "rezKS = getKSCool(fnOriginal, fnRandomized, pv, chr)\n",
    "print(rezKS)\n",
    "rezHiCRep = doHiCRep(fnOriginal, fnRandomized, [chr])\n",
    "print(rezHiCRep)\n",
    "\n"
   ]
  }
 ],
 "metadata": {
  "kernelspec": {
   "display_name": "base",
   "language": "python",
   "name": "python3"
  },
  "language_info": {
   "codemirror_mode": {
    "name": "ipython",
    "version": 3
   },
   "file_extension": ".py",
   "mimetype": "text/x-python",
   "name": "python",
   "nbconvert_exporter": "python",
   "pygments_lexer": "ipython3",
   "version": "3.9.13"
  },
  "orig_nbformat": 4
 },
 "nbformat": 4,
 "nbformat_minor": 2
}
