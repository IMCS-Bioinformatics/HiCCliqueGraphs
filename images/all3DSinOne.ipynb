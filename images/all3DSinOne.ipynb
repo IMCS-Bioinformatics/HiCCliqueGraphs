{
 "cells": [
  {
   "attachments": {},
   "cell_type": "markdown",
   "metadata": {},
   "source": [
    "Notebook to generate images that compare all 3 datasets in one image"
   ]
  },
  {
   "cell_type": "code",
   "execution_count": 21,
   "metadata": {},
   "outputs": [],
   "source": [
    "from universal import UniversalDS, ChrData\n",
    "from topologicalFeatures import Cliques, Bases, BasesOfBases\n"
   ]
  },
  {
   "cell_type": "code",
   "execution_count": 22,
   "metadata": {},
   "outputs": [],
   "source": [
    "A = UniversalDS(\"../sampleData/data-pvalue-0.7-fin-min.json\")\n",
    "B = UniversalDS(\"../sampleData/data-pvalue-5-fin-min.json\")\n",
    "C = UniversalDS(\"../sampleData/data-pvalue-10-fin-min.json\")\n",
    "A.DS = \"Tissue pcHi-C\"\n",
    "B.DS = \"Blood cell pcHi-C\"\n",
    "C.DS = \"Tissue Hi-C\""
   ]
  },
  {
   "cell_type": "code",
   "execution_count": 23,
   "metadata": {},
   "outputs": [],
   "source": [
    "ch = \"chr6\"\n",
    "aChData = ChrData(A, ch)\n",
    "bChData = ChrData(B, ch)\n",
    "cChData = ChrData(C, ch)"
   ]
  },
  {
   "cell_type": "code",
   "execution_count": 24,
   "metadata": {},
   "outputs": [],
   "source": [
    "import matplotlib.pyplot as plt"
   ]
  },
  {
   "cell_type": "code",
   "execution_count": 25,
   "metadata": {},
   "outputs": [],
   "source": [
    "aLinks = aChData.allLinks\n",
    "linkPointsA = [aChData.segmentIndToMidpoint[el[0]] for el in aLinks] +\\\n",
    "                [aChData.segmentIndToMidpoint[el[1]] for el in aLinks]\n",
    "\n",
    "bLinks = bChData.allLinks\n",
    "linkPointsB = [bChData.segmentIndToMidpoint[el[0]] for el in bLinks] +\\\n",
    "                [bChData.segmentIndToMidpoint[el[1]] for el in bLinks]\n",
    "\n",
    "cLinks = cChData.allLinks\n",
    "linkPointsC = [cChData.segmentIndToMidpoint[el[0]] for el in cLinks] +\\\n",
    "                [cChData.segmentIndToMidpoint[el[1]] for el in cLinks]"
   ]
  },
  {
   "cell_type": "code",
   "execution_count": 26,
   "metadata": {},
   "outputs": [
    {
     "name": "stdout",
     "output_type": "stream",
     "text": [
      "start chr6\n",
      "255839 47834 266949\n"
     ]
    },
    {
     "data": {
      "text/plain": [
       "<Figure size 1600x1000 with 0 Axes>"
      ]
     },
     "metadata": {},
     "output_type": "display_data"
    }
   ],
   "source": [
    "title = \"Link loci in different datasets\"\n",
    "fig, ax = plt.subplots()\n",
    "print(\"start {ch}\".format(ch=ch))\n",
    "\n",
    "\n",
    "print(len(aLinks), len(bLinks), len(cLinks))\n",
    "\n",
    "bins = 250\n",
    "ax.hist(x=linkPointsA, bins=bins, histtype='step', label=A.DS, fill=True, alpha=.3, density=True, facecolor=\"red\", hatch='-----', linewidth=0.1, edgecolor=\"black\")\n",
    "ax.hist(x=linkPointsB, bins=bins, histtype='step', label=B.DS, fill=True, alpha=.3, density=True, facecolor=\"black\", hatch='\\\\\\\\\\\\\\\\\\\\', linewidth=0.1, edgecolor=\"black\")\n",
    "ax.hist(x=linkPointsC, bins=bins, histtype='step', label=C.DS, fill=True, alpha=.4, density=True, facecolor=\"blue\", hatch='//////', linewidth=0.1, edgecolor=\"black\")\n",
    "ax.set_xlim(left=0)\n",
    "ax.ticklabel_format(axis='x', scilimits=(6,6) )\n",
    "\n",
    "\n",
    "\n",
    "ax.set_title(\"{ch}\".format(ch=ch))\n",
    "ax.tick_params(labelsize=24)\n",
    "# axs[num[0], num[1]].set_ylim(ymin=0, ymax=maxVal)\n",
    "# axs[num[0], num[1]].set_xlim(xmin=0, xmax=maxVal)\n",
    "# axs[num[0], num[1]].plot([0,maxVal], [0,maxVal])\n",
    "\n",
    "ax.legend(loc=\"upper right\") \n",
    "\n",
    "#plt.yscale(\"log\")\n",
    "\n",
    "\n",
    "ax.set(xlabel='Loci in Mbp')\n",
    "ax.set(ylabel='Normalized count of link endpoints')\n",
    "ax.xaxis.label.set_fontsize(28)\n",
    "ax.yaxis.label.set_fontsize(28)\n",
    "fig.suptitle(title, size=32)\n",
    "fig.set_size_inches(16.,10.)\n",
    "#plt.savefig('{oa}-{v}-compare-randomized-{o}-vs-{r}.png'.format(oa=objectAnalyzed, v=variant, o=U.DS, r=R.DS), dpi=300)\n",
    "plt.savefig('IMG-{title}.png'.format(title=title), dpi=600)\n",
    "plt.savefig('IMG-{title}.svg'.format(title=title), dpi=600)\n",
    "plt.savefig('IMG-{title}.pdf'.format(title=title), dpi=800)\n",
    "#plt.show()\n",
    "plt.clf()"
   ]
  },
  {
   "cell_type": "code",
   "execution_count": null,
   "metadata": {},
   "outputs": [],
   "source": []
  },
  {
   "cell_type": "code",
   "execution_count": null,
   "metadata": {},
   "outputs": [],
   "source": []
  },
  {
   "cell_type": "code",
   "execution_count": 27,
   "metadata": {},
   "outputs": [],
   "source": [
    "A3 = Cliques(aChData, minC3TissueCount=1)\n",
    "aLinks = A3.getLinksList()\n",
    "linkPointsA = [aChData.segmentIndToMidpoint[el[0]] for el in aLinks] +\\\n",
    "                [aChData.segmentIndToMidpoint[el[1]] for el in aLinks]\n",
    "\n",
    "B3 = Cliques(bChData, minC3TissueCount=1)\n",
    "bLinks = B3.getLinksList()\n",
    "linkPointsB = [bChData.segmentIndToMidpoint[el[0]] for el in bLinks] +\\\n",
    "                [bChData.segmentIndToMidpoint[el[1]] for el in bLinks]\n",
    "\n",
    "C3 = Cliques(cChData, minC3TissueCount=1)\n",
    "cLinks = C3.getLinksList()\n",
    "linkPointsC = [cChData.segmentIndToMidpoint[el[0]] for el in cLinks] +\\\n",
    "                [cChData.segmentIndToMidpoint[el[1]] for el in cLinks]"
   ]
  },
  {
   "cell_type": "code",
   "execution_count": 28,
   "metadata": {},
   "outputs": [
    {
     "name": "stdout",
     "output_type": "stream",
     "text": [
      "start chr6\n",
      "383748 173304 966645\n"
     ]
    },
    {
     "data": {
      "text/plain": [
       "<Figure size 1600x1000 with 0 Axes>"
      ]
     },
     "metadata": {},
     "output_type": "display_data"
    }
   ],
   "source": [
    "title = \"C3 loci in different datasets\"\n",
    "fig, ax = plt.subplots()\n",
    "print(\"start {ch}\".format(ch=ch))\n",
    "\n",
    "\n",
    "print(len(aLinks), len(bLinks), len(cLinks))\n",
    "\n",
    "bins = 250\n",
    "ax.hist(x=linkPointsA, bins=bins, histtype='step', label=A.DS, fill=True, alpha=.3, density=True, facecolor=\"red\", hatch='-----', linewidth=0.1, edgecolor=\"black\")\n",
    "ax.hist(x=linkPointsB, bins=bins, histtype='step', label=B.DS, fill=True, alpha=.3, density=True, facecolor=\"black\", hatch='\\\\\\\\\\\\\\\\\\\\', linewidth=0.1, edgecolor=\"black\")\n",
    "ax.hist(x=linkPointsC, bins=bins, histtype='step', label=C.DS, fill=True, alpha=.4, density=True, facecolor=\"blue\", hatch='//////', linewidth=0.1, edgecolor=\"black\")\n",
    "\n",
    "ax.set_xlim(left=0)\n",
    "\n",
    "\n",
    "ax.set_title(\"{ch}\".format(ch=ch))\n",
    "ax.tick_params(labelsize=24)\n",
    "# axs[num[0], num[1]].set_ylim(ymin=0, ymax=maxVal)\n",
    "# axs[num[0], num[1]].set_xlim(xmin=0, xmax=maxVal)\n",
    "# axs[num[0], num[1]].plot([0,maxVal], [0,maxVal])\n",
    "\n",
    "ax.legend(loc=\"upper right\")\n",
    "ax.ticklabel_format(axis='x', scilimits=(6,6) )\n",
    "#plt.yscale(\"log\")\n",
    "\n",
    "\n",
    "ax.set(xlabel='Loci in Mbp')\n",
    "ax.set(ylabel='Normalized count of C3 endpoints')\n",
    "ax.xaxis.label.set_fontsize(28)\n",
    "ax.yaxis.label.set_fontsize(28)\n",
    "fig.suptitle(title, size=32)\n",
    "fig.set_size_inches(16.,10.)\n",
    "#plt.savefig('{oa}-{v}-compare-randomized-{o}-vs-{r}.png'.format(oa=objectAnalyzed, v=variant, o=U.DS, r=R.DS), dpi=300)\n",
    "plt.savefig('IMG-{title}.png'.format(title=title), dpi=600)\n",
    "plt.savefig('IMG-{title}.svg'.format(title=title), dpi=600)\n",
    "plt.savefig('IMG-{title}.pdf'.format(title=title), dpi=800)\n",
    "\n",
    "#plt.show()\n",
    "plt.clf()"
   ]
  },
  {
   "cell_type": "code",
   "execution_count": null,
   "metadata": {},
   "outputs": [],
   "source": []
  },
  {
   "cell_type": "code",
   "execution_count": 29,
   "metadata": {},
   "outputs": [
    {
     "name": "stdout",
     "output_type": "stream",
     "text": [
      "Bases 17 of bases calculated. 4771 bases found\n",
      "Bases 15 of bases calculated. 3098 bases found\n",
      "Bases 18 of bases calculated. 12952 bases found\n"
     ]
    }
   ],
   "source": [
    "bobA = BasesOfBases(aChData)\n",
    "bobB = BasesOfBases(bChData)\n",
    "bobC = BasesOfBases(cChData)\n",
    "\n",
    "from numpy import log2\n",
    "baseDeg = int(log2(len(bobA.links)))\n",
    "aLinks = bobA.reduce(baseDeg)\n",
    "linkPointsA = [aChData.segmentIndToMidpoint[el[0]] for el in aLinks] +\\\n",
    "                [aChData.segmentIndToMidpoint[el[1]] for el in aLinks]\n",
    "\n",
    "baseDeg = int(log2(len(bobB.links)))\n",
    "bLinks = bobB.reduce(baseDeg)\n",
    "linkPointsB = [bChData.segmentIndToMidpoint[el[0]] for el in bLinks] +\\\n",
    "                [bChData.segmentIndToMidpoint[el[1]] for el in bLinks]\n",
    "\n",
    "baseDeg = int(log2(len(bobC.links)))\n",
    "cLinks = bobC.reduce(baseDeg)\n",
    "linkPointsC = [cChData.segmentIndToMidpoint[el[0]] for el in cLinks] +\\\n",
    "                [cChData.segmentIndToMidpoint[el[1]] for el in cLinks]\n"
   ]
  },
  {
   "cell_type": "code",
   "execution_count": 30,
   "metadata": {},
   "outputs": [
    {
     "name": "stdout",
     "output_type": "stream",
     "text": [
      "start chr6\n",
      "4771 3098 12952\n"
     ]
    },
    {
     "data": {
      "text/plain": [
       "<Figure size 1600x1000 with 0 Axes>"
      ]
     },
     "metadata": {},
     "output_type": "display_data"
    }
   ],
   "source": [
    "title = \"Support S(log2(link count)) loci in different datasets\"\n",
    "fig, ax = plt.subplots()\n",
    "print(\"start {ch}\".format(ch=ch))\n",
    "\n",
    "\n",
    "print(len(aLinks), len(bLinks), len(cLinks))\n",
    "\n",
    "bins = 250\n",
    "ax.hist(x=linkPointsA, bins=bins, histtype='step', label=A.DS, fill=True, alpha=.3, density=True, facecolor=\"red\", hatch='-----', linewidth=0.1, edgecolor=\"black\")\n",
    "ax.hist(x=linkPointsB, bins=bins, histtype='step', label=B.DS, fill=True, alpha=.3, density=True, facecolor=\"black\", hatch='\\\\\\\\\\\\\\\\\\\\', linewidth=0.1, edgecolor=\"black\")\n",
    "ax.hist(x=linkPointsC, bins=bins, histtype='step', label=C.DS, fill=True, alpha=.4, density=True, facecolor=\"blue\", hatch='//////', linewidth=0.1, edgecolor=\"black\")\n",
    "\n",
    "ax.set_xlim(left=0)\n",
    "\n",
    "\n",
    "ax.set_title(\"{ch}\".format(ch=ch))\n",
    "ax.tick_params(labelsize=24)\n",
    "# axs[num[0], num[1]].set_ylim(ymin=0, ymax=maxVal)\n",
    "# axs[num[0], num[1]].set_xlim(xmin=0, xmax=maxVal)\n",
    "# axs[num[0], num[1]].plot([0,maxVal], [0,maxVal])\n",
    "\n",
    "ax.legend(loc=\"upper right\")\n",
    "ax.ticklabel_format(axis='x', scilimits=(6,6) )\n",
    "#plt.yscale(\"log\")\n",
    "\n",
    "\n",
    "ax.set(xlabel='Loci in Mbp')\n",
    "ax.set(ylabel='Normalized count of S(k) endpoints')\n",
    "ax.xaxis.label.set_fontsize(28)\n",
    "ax.yaxis.label.set_fontsize(28)\n",
    "fig.suptitle(title, size=32)\n",
    "fig.set_size_inches(16.,10.)\n",
    "#plt.savefig('{oa}-{v}-compare-randomized-{o}-vs-{r}.png'.format(oa=objectAnalyzed, v=variant, o=U.DS, r=R.DS), dpi=300)\n",
    "plt.savefig('IMG-{title}.png'.format(title=title), dpi=600)\n",
    "plt.savefig('IMG-{title}.svg'.format(title=title), dpi=600)\n",
    "plt.savefig('IMG-{title}.pdf'.format(title=title), dpi=800)\n",
    "\n",
    "#plt.show()\n",
    "plt.clf()"
   ]
  },
  {
   "cell_type": "code",
   "execution_count": null,
   "metadata": {},
   "outputs": [],
   "source": []
  },
  {
   "cell_type": "code",
   "execution_count": null,
   "metadata": {},
   "outputs": [],
   "source": []
  },
  {
   "cell_type": "code",
   "execution_count": null,
   "metadata": {},
   "outputs": [],
   "source": []
  },
  {
   "cell_type": "code",
   "execution_count": null,
   "metadata": {},
   "outputs": [],
   "source": []
  },
  {
   "cell_type": "code",
   "execution_count": null,
   "metadata": {},
   "outputs": [],
   "source": []
  },
  {
   "cell_type": "code",
   "execution_count": null,
   "metadata": {},
   "outputs": [],
   "source": []
  },
  {
   "cell_type": "code",
   "execution_count": null,
   "metadata": {},
   "outputs": [],
   "source": []
  },
  {
   "cell_type": "code",
   "execution_count": null,
   "metadata": {},
   "outputs": [],
   "source": []
  },
  {
   "cell_type": "code",
   "execution_count": null,
   "metadata": {},
   "outputs": [],
   "source": []
  },
  {
   "cell_type": "code",
   "execution_count": null,
   "metadata": {},
   "outputs": [],
   "source": []
  }
 ],
 "metadata": {
  "kernelspec": {
   "display_name": "base",
   "language": "python",
   "name": "python3"
  },
  "language_info": {
   "codemirror_mode": {
    "name": "ipython",
    "version": 3
   },
   "file_extension": ".py",
   "mimetype": "text/x-python",
   "name": "python",
   "nbconvert_exporter": "python",
   "pygments_lexer": "ipython3",
   "version": "3.9.13"
  },
  "orig_nbformat": 4
 },
 "nbformat": 4,
 "nbformat_minor": 2
}
