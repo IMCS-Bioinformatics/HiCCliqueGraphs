{
 "cells": [
  {
   "cell_type": "code",
   "execution_count": 69,
   "metadata": {},
   "outputs": [],
   "source": [
    "from universal import UniversalDS, ChrData\n",
    "from topologicalFeatures import Cliques, Bases, BasesOfBases\n"
   ]
  },
  {
   "cell_type": "code",
   "execution_count": 70,
   "metadata": {},
   "outputs": [],
   "source": [
    "# # A = UniversalDS(\"C:\\\\Users\\\\asizo\\\\Documents\\\\myPrograms\\\\dataFiles\\\\data-pvalue-0.7-fin.json\")\n",
    "# # B = UniversalDS(\"C:\\\\Users\\\\asizo\\\\Documents\\\\myPrograms\\\\dataFiles\\\\data-pvalue-5-fin.json\")\n",
    "# C = UniversalDS(\"C:\\\\Users\\\\asizo\\\\Documents\\\\myPrograms\\\\dataFiles\\\\data-pvalue-10-fin.json\")\n",
    "# # A.DS = \"Tissue pcHi-C\"\n",
    "# # B.DS = \"Blood cell pcHi-C\"\n",
    "# C.DS = \"Tissue Hi-C\""
   ]
  },
  {
   "cell_type": "code",
   "execution_count": 71,
   "metadata": {},
   "outputs": [],
   "source": [
    "# ch = \"chr6\"\n",
    "# # aChData = ChrData(A, ch)\n",
    "# # bChData = ChrData(B, ch)\n",
    "# cChData = ChrData(C, ch)"
   ]
  },
  {
   "cell_type": "code",
   "execution_count": 72,
   "metadata": {},
   "outputs": [],
   "source": [
    "import matplotlib.pyplot as plt"
   ]
  },
  {
   "cell_type": "code",
   "execution_count": 73,
   "metadata": {},
   "outputs": [],
   "source": [
    "class General():\n",
    "    #Creates all data for matplotlib to plot on one plot\n",
    "    def __init__(self, chData):\n",
    "        self.chData = chData\n",
    "    def getLinkPoints(self, links):\n",
    "        return [self.chData.segmentIndToMidpoint[el[0]] for el in links] +\\\n",
    "                [self.chData.segmentIndToMidpoint[el[1]] for el in links]\n",
    "    def getLinks(self):\n",
    "        self.setLinks()\n",
    "        return self.linkPoints"
   ]
  },
  {
   "cell_type": "code",
   "execution_count": 74,
   "metadata": {},
   "outputs": [],
   "source": [
    "class LinkEndpoints(General):\n",
    "    def __init__(self, chData):\n",
    "        super().__init__(chData)\n",
    "    def setLinks(self): #sets linkEndpoints\n",
    "        self.linkPoints = self.getLinkPoints(self.chData.allLinks)\n"
   ]
  },
  {
   "cell_type": "code",
   "execution_count": 75,
   "metadata": {},
   "outputs": [],
   "source": [
    "class C3Endpoints(General):\n",
    "    def __init__(self, chData, minC3TissueCount=1):\n",
    "        super().__init__(chData)\n",
    "        self.minC3TissueCount = minC3TissueCount\n",
    "    def setLinks(self): #sets C3Endpoints self.linkPoints       \n",
    "        A3 = Cliques(self.chData, self.minC3TissueCount)\n",
    "        self.linkPoints = self.getLinkPoints(A3.getLinksList())\n",
    "        "
   ]
  },
  {
   "cell_type": "code",
   "execution_count": 76,
   "metadata": {},
   "outputs": [],
   "source": [
    "from numpy import log2"
   ]
  },
  {
   "cell_type": "code",
   "execution_count": 77,
   "metadata": {},
   "outputs": [],
   "source": [
    "\n",
    "class SkEndpoints(General):\n",
    "    def __init__(self, chData):\n",
    "        super().__init__(chData)\n",
    "    def setLinks(self): #sets SkEndpoints self.linkPoints       \n",
    "        bob = BasesOfBases(self.chData)\n",
    "        baseDeg = int(log2(len(bob.links)))\n",
    "        self.linkPoints = self.getLinkPoints(bob.reduce(baseDeg))"
   ]
  },
  {
   "cell_type": "code",
   "execution_count": null,
   "metadata": {},
   "outputs": [],
   "source": []
  },
  {
   "cell_type": "code",
   "execution_count": 78,
   "metadata": {},
   "outputs": [],
   "source": [
    "class Drawer():\n",
    "    def __init__(self, template):\n",
    "        self.template = template\n",
    "        self.draftContainer = []\n",
    "        for v in self.template[\"instructions\"]:\n",
    "            U = UniversalDS(v[\"fn\"])\n",
    "            self.chData = ChrData(U, ch=self.template[\"ch\"])\n",
    "            if v[\"type\"] == \"Link endpoints\":\n",
    "                LL = LinkEndpoints(self.chData)\n",
    "            elif v[\"type\"] == \"Triangle endpoints\":\n",
    "                LL = C3Endpoints(self.chData, minC3TissueCount=v[\"minC3TissueCount\"])\n",
    "            elif v[\"type\"] == \"Support endpoints\":\n",
    "                LL = SkEndpoints(self.chData)\n",
    "            else:\n",
    "                raise Exception(\"invalid type in instructions\")\n",
    "            \n",
    "            links = LL.getLinks()\n",
    "            self.draftContainer.append({\"links\": links, \"params\": v})\n",
    "        if self.template[\"JSONfn\"] is not None:\n",
    "            import json\n",
    "            with open(self.template[\"JSONfn\"], 'w') as f:\n",
    "                DD = {\"template\": self.template,\n",
    "                      \"draftContainer\": self.draftContainer, }\n",
    "                json.dump(DD, f)\n",
    "            \n",
    "        self.drawLinks()\n",
    "    \n",
    "    def drawLinks(self):\n",
    "        #uses self.draftContainer\n",
    "        fig, ax = plt.subplots()\n",
    "        ax.set(xlabel=self.template[\"xlabel\"])\n",
    "        ax.set(ylabel=self.template[\"ylabel\"])\n",
    "        fig.suptitle(self.template[\"title\"], size=18)\n",
    "        \n",
    "        bins = 250\n",
    "        for draft in self.draftContainer:\n",
    "            params = draft[\"params\"]\n",
    "            ax.hist(x=draft[\"links\"], bins=bins, histtype='step', label=params[\"label\"], fill=True, alpha=params[\"alpha\"], density=True,\n",
    "                     facecolor=params[\"facecolor\"], hatch=params[\"hatch\"], linewidth=0.1, edgecolor=\"black\")\n",
    "        \n",
    "        \n",
    "\n",
    "        ax.set_xlim(left=0)\n",
    "        ax.ticklabel_format(axis='x', scilimits=(6,6) )\n",
    "        ax.tick_params(labelsize=16)\n",
    "        ax.legend(loc=\"upper right\")\n",
    "        fig.set_size_inches(16.,10.)\n",
    "        plt.savefig('IMG-{title}.png'.format(title=self.template[\"title\"]+\"png\"), dpi=600)\n",
    "        plt.savefig('IMG-{title}.svg'.format(title=self.template[\"title\"]+\"svg\"))\n",
    "        #plt.show()\n",
    "        plt.clf()\n",
    "        "
   ]
  },
  {
   "cell_type": "code",
   "execution_count": null,
   "metadata": {},
   "outputs": [],
   "source": []
  },
  {
   "cell_type": "code",
   "execution_count": 79,
   "metadata": {},
   "outputs": [],
   "source": [
    "template = {\n",
    "    \"title\": \"Different objects of chr6 of Tissue Hi-C\",\n",
    "    \"xlabel\": 'Loci in bp',\n",
    "    \"ylabel\": 'Normalized count of link endpoints',\n",
    "    \"ch\": \"chr6\",\n",
    "    \"JSONfn\": \"fileWithDrawableData.json\", #or None\n",
    "    \"binSize\": 25000*2,\n",
    "    \"instructions\": [\n",
    "        {\n",
    "            \"fn\" : \"../sampleData/data-pvalue-10-fin-min.json\",\n",
    "            \"type\": \"Link endpoints\", # \"Triangle endpoints\" or \"Support endpoints\"\n",
    "            \"minC3TissueCount\": 1,\n",
    "            \"label\": \"Link endpoints\",\n",
    "            \"facecolor\": \"red\", \n",
    "            \"hatch\": '-----',\n",
    "            \"alpha\": 0.3,\n",
    "        },\n",
    "        {\n",
    "            \"fn\" : \"../sampleData/data-pvalue-10-fin-min.json\",\n",
    "            \"type\": \"Triangle endpoints\", # \"Link endpoints\" or \"Support endpoints\"\n",
    "            \"minC3TissueCount\": 1,\n",
    "            \"label\": \"C3 endpoints\",\n",
    "            \"facecolor\": \"yellow\", \n",
    "            \"hatch\": '///////',\n",
    "            \"alpha\": 0.3,\n",
    "        },\n",
    "        {\n",
    "            \"fn\" : \"../sampleData/data-pvalue-10-fin-min.json\",\n",
    "            \"type\": \"Support endpoints\", # \"Link endpoints\" or \"Support endpoints\" or \"Triangle endpoints\"\n",
    "            \"minC3TissueCount\": 1,\n",
    "            \"label\": \"S(k) endpoints\",\n",
    "            \"facecolor\": \"black\", \n",
    "            \"hatch\": '\\\\\\\\\\\\\\\\\\\\\\\\',\n",
    "            \"alpha\": 0.3,\n",
    "        }\n",
    "    ],  \n",
    "}\n",
    "template[\"JSONfn\"] = template[\"title\"]+\".json\"\n"
   ]
  },
  {
   "cell_type": "code",
   "execution_count": 80,
   "metadata": {},
   "outputs": [
    {
     "name": "stdout",
     "output_type": "stream",
     "text": [
      "Bases 18 of bases calculated. 12952 bases found\n"
     ]
    },
    {
     "data": {
      "text/plain": [
       "<Figure size 1600x1000 with 0 Axes>"
      ]
     },
     "metadata": {},
     "output_type": "display_data"
    }
   ],
   "source": [
    "D = Drawer(template)"
   ]
  },
  {
   "cell_type": "code",
   "execution_count": null,
   "metadata": {},
   "outputs": [],
   "source": [
    "\n",
    "\n",
    "            \n",
    "        \n",
    "\n",
    "            \n"
   ]
  },
  {
   "cell_type": "code",
   "execution_count": 81,
   "metadata": {},
   "outputs": [],
   "source": [
    "template = {\n",
    "    \"title\": \"Different objects of chr6 of Tissue pcHi-C\",\n",
    "    \"xlabel\": 'Loci in bp',\n",
    "    \"ylabel\": 'Normalized count of link endpoints',\n",
    "    \"ch\": \"chr6\",\n",
    "    \"JSONfn\": \"fileWithDrawableData.json\", #or None\n",
    "    \"binSize\": 25000*2,\n",
    "    \"instructions\": [\n",
    "        {\n",
    "            \"fn\" : \"../sampleData/data-pvalue-0.7-fin-min.json\",\n",
    "            \"type\": \"Link endpoints\", # \"Triangle endpoints\" or \"Support endpoints\"\n",
    "            \"minC3TissueCount\": 1,\n",
    "            \"label\": \"Link endpoints\",\n",
    "            \"facecolor\": \"red\", \n",
    "            \"hatch\": '-----',\n",
    "            \"alpha\": 0.3,\n",
    "        },\n",
    "        {\n",
    "            \"fn\" : \"../sampleData/data-pvalue-0.7-fin-min.json\",\n",
    "            \"type\": \"Triangle endpoints\", # \"Link endpoints\" or \"Support endpoints\"\n",
    "            \"minC3TissueCount\": 1,\n",
    "            \"label\": \"C3 endpoints\",\n",
    "            \"facecolor\": \"yellow\", \n",
    "            \"hatch\": '///////',\n",
    "            \"alpha\": 0.3,\n",
    "        },\n",
    "        {\n",
    "            \"fn\" : \"../sampleData/data-pvalue-0.7-fin-min.json\",\n",
    "            \"type\": \"Support endpoints\", # \"Link endpoints\" or \"Support endpoints\" or \"Triangle endpoints\"\n",
    "            \"minC3TissueCount\": 1,\n",
    "            \"label\": \"S(k) endpoints\",\n",
    "            \"facecolor\": \"black\", \n",
    "            \"hatch\": '\\\\\\\\\\\\\\\\\\\\\\\\',\n",
    "            \"alpha\": 0.3,\n",
    "        }\n",
    "    ],  \n",
    "}\n",
    "template[\"JSONfn\"] = template[\"title\"]+\".json\""
   ]
  },
  {
   "cell_type": "code",
   "execution_count": 82,
   "metadata": {},
   "outputs": [
    {
     "name": "stdout",
     "output_type": "stream",
     "text": [
      "Bases 17 of bases calculated. 4771 bases found\n"
     ]
    },
    {
     "data": {
      "text/plain": [
       "<Figure size 1600x1000 with 0 Axes>"
      ]
     },
     "metadata": {},
     "output_type": "display_data"
    }
   ],
   "source": [
    "D = Drawer(template)"
   ]
  },
  {
   "cell_type": "code",
   "execution_count": 83,
   "metadata": {},
   "outputs": [],
   "source": [
    "template = {\n",
    "    \"title\": \"Different objects of chr6 of Blood cell pcHi-C\",\n",
    "    \"xlabel\": 'Loci in bp',\n",
    "    \"ylabel\": 'Normalized count of link endpoints',\n",
    "    \"ch\": \"chr6\",\n",
    "    \"JSONfn\": \"fileWithDrawableData.json\", #or None\n",
    "    \"binSize\": 25000*2,\n",
    "    \"instructions\": [\n",
    "        {\n",
    "            \"fn\" : \"../sampleData/data-pvalue-5-fin-min.json\",\n",
    "            \"type\": \"Link endpoints\", # \"Triangle endpoints\" or \"Support endpoints\"\n",
    "            \"minC3TissueCount\": 1,\n",
    "            \"label\": \"Link endpoints\",\n",
    "            \"facecolor\": \"red\", \n",
    "            \"hatch\": '-----',\n",
    "            \"alpha\": 0.3,\n",
    "        },\n",
    "        {\n",
    "            \"fn\" : \"../sampleData/data-pvalue-5-fin-min.json\",\n",
    "            \"type\": \"Triangle endpoints\", # \"Link endpoints\" or \"Support endpoints\"\n",
    "            \"minC3TissueCount\": 1,\n",
    "            \"label\": \"C3 endpoints\",\n",
    "            \"facecolor\": \"yellow\", \n",
    "            \"hatch\": '///////',\n",
    "            \"alpha\": 0.3,\n",
    "        },\n",
    "        {\n",
    "            \"fn\" : \"../sampleData/data-pvalue-5-fin-min.json\",\n",
    "            \"type\": \"Support endpoints\", # \"Link endpoints\" or \"Support endpoints\" or \"Triangle endpoints\"\n",
    "            \"minC3TissueCount\": 1,\n",
    "            \"label\": \"S(k) endpoints\",\n",
    "            \"facecolor\": \"black\", \n",
    "            \"hatch\": '\\\\\\\\\\\\\\\\\\\\\\\\',\n",
    "            \"alpha\": 0.3,\n",
    "        }\n",
    "    ],  \n",
    "}\n",
    "template[\"JSONfn\"] = template[\"title\"]+\".json\""
   ]
  },
  {
   "cell_type": "code",
   "execution_count": 84,
   "metadata": {},
   "outputs": [
    {
     "name": "stdout",
     "output_type": "stream",
     "text": [
      "Bases 15 of bases calculated. 3098 bases found\n"
     ]
    },
    {
     "data": {
      "text/plain": [
       "<Figure size 1600x1000 with 0 Axes>"
      ]
     },
     "metadata": {},
     "output_type": "display_data"
    }
   ],
   "source": [
    "D = Drawer(template)"
   ]
  },
  {
   "cell_type": "code",
   "execution_count": 85,
   "metadata": {},
   "outputs": [],
   "source": [
    "template = {\n",
    "    \"title\": \"Link loci in different datasets\",\n",
    "    \"xlabel\": 'Loci in bp',\n",
    "    \"ylabel\": 'Normalized count of link endpoints',\n",
    "    \"ch\": \"chr6\",\n",
    "    \"JSONfn\": \"fileWithDrawableData.json\", #or None\n",
    "    \"binSize\": 25000*2,\n",
    "    \"instructions\": [\n",
    "        {\n",
    "            \"fn\" : \"../sampleData/data-pvalue-5-fin-min.json\",\n",
    "            \"type\": \"Link endpoints\", # \"Triangle endpoints\" or \"Support endpoints\"\n",
    "            \"minC3TissueCount\": 1,\n",
    "            \"label\": \"Blood cell pcHi-C\",\n",
    "            \"facecolor\": \"red\", \n",
    "            \"hatch\": '-----',\n",
    "            \"alpha\": 0.3,\n",
    "        },\n",
    "        {\n",
    "            \"fn\" : \"../sampleData/data-pvalue-0.7-fin-min.json\",\n",
    "            \"type\": \"Link endpoints\", # \"Link endpoints\" or \"Support endpoints\"\n",
    "            \"minC3TissueCount\": 1,\n",
    "            \"label\": \"Tissue pcHi-C\",\n",
    "            \"facecolor\": \"yellow\", \n",
    "            \"hatch\": '///////',\n",
    "            \"alpha\": 0.3,\n",
    "        },\n",
    "        {\n",
    "            \"fn\" : \"../sampleData/data-pvalue-10-fin-min.json\",\n",
    "            \"type\": \"Link endpoints\", # \"Link endpoints\" or \"Support endpoints\" or \"Triangle endpoints\"\n",
    "            \"minC3TissueCount\": 1,\n",
    "            \"label\": \"Tissue Hi-C\",\n",
    "            \"facecolor\": \"black\", \n",
    "            \"hatch\": '\\\\\\\\\\\\\\\\\\\\\\\\',\n",
    "            \"alpha\": 0.3,\n",
    "        }\n",
    "    ],  \n",
    "}\n",
    "template[\"JSONfn\"] = template[\"title\"]+\".json\""
   ]
  },
  {
   "cell_type": "code",
   "execution_count": 86,
   "metadata": {},
   "outputs": [
    {
     "data": {
      "text/plain": [
       "<Figure size 1600x1000 with 0 Axes>"
      ]
     },
     "metadata": {},
     "output_type": "display_data"
    }
   ],
   "source": [
    "D = Drawer(template)"
   ]
  },
  {
   "cell_type": "code",
   "execution_count": 87,
   "metadata": {},
   "outputs": [],
   "source": [
    "template = {\n",
    "    \"title\": \"C3 loci in different datasets\",\n",
    "    \"xlabel\": 'Loci in bp',\n",
    "    \"ylabel\": 'Normalized count of C3 endpoints',\n",
    "    \"ch\": \"chr6\",\n",
    "    \"JSONfn\": \"fileWithDrawableData.json\", #or None\n",
    "    \"binSize\": 25000*2,\n",
    "    \"instructions\": [\n",
    "        {\n",
    "            \"fn\" : \"../sampleData/data-pvalue-5-fin-min.json\",\n",
    "            \"type\": \"Triangle endpoints\", # \"Triangle endpoints\" or \"Support endpoints\"\n",
    "            \"minC3TissueCount\": 1,\n",
    "            \"label\": \"Blood cell pcHi-C\",\n",
    "            \"facecolor\": \"red\", \n",
    "            \"hatch\": '-----',\n",
    "            \"alpha\": 0.3,\n",
    "        },\n",
    "        {\n",
    "            \"fn\" : \"../sampleData/data-pvalue-0.7-fin-min.json\",\n",
    "            \"type\": \"Triangle endpoints\", # \"Link endpoints\" or \"Support endpoints\"\n",
    "            \"minC3TissueCount\": 1,\n",
    "            \"label\": \"Tissue pcHi-C\",\n",
    "            \"facecolor\": \"yellow\", \n",
    "            \"hatch\": '///////',\n",
    "            \"alpha\": 0.3,\n",
    "        },\n",
    "        {\n",
    "            \"fn\" : \"../sampleData/data-pvalue-10-fin-min.json\",\n",
    "            \"type\": \"Triangle endpoints\", # \"Link endpoints\" or \"Support endpoints\" or \"Triangle endpoints\"\n",
    "            \"minC3TissueCount\": 1,\n",
    "            \"label\": \"Tissue Hi-C\",\n",
    "            \"facecolor\": \"black\", \n",
    "            \"hatch\": '\\\\\\\\\\\\\\\\\\\\\\\\',\n",
    "            \"alpha\": 0.3,\n",
    "        }\n",
    "    ],  \n",
    "}\n",
    "template[\"JSONfn\"] = template[\"title\"]+\".json\""
   ]
  },
  {
   "cell_type": "code",
   "execution_count": 88,
   "metadata": {},
   "outputs": [
    {
     "data": {
      "text/plain": [
       "<Figure size 1600x1000 with 0 Axes>"
      ]
     },
     "metadata": {},
     "output_type": "display_data"
    }
   ],
   "source": [
    "D = Drawer(template)"
   ]
  },
  {
   "cell_type": "code",
   "execution_count": 89,
   "metadata": {},
   "outputs": [],
   "source": [
    "template = {\n",
    "    \"title\": \"S(k) loci in different datasets\",\n",
    "    \"xlabel\": 'Loci in bp',\n",
    "    \"ylabel\": 'Normalized count of S(k) endpoints',\n",
    "    \"ch\": \"chr6\",\n",
    "    \"JSONfn\": \"fileWithDrawableData.json\", #or None\n",
    "    \"binSize\": 25000*2,\n",
    "    \"instructions\": [\n",
    "        {\n",
    "            \"fn\" : \"../sampleData/data-pvalue-5-fin-min.json\",\n",
    "            \"type\": \"Support endpoints\", # \"Triangle endpoints\" or \"Support endpoints\"\n",
    "            \"minC3TissueCount\": 1,\n",
    "            \"label\": \"Blood cell pcHi-C\",\n",
    "            \"facecolor\": \"red\", \n",
    "            \"hatch\": '-----',\n",
    "            \"alpha\": 0.3,\n",
    "        },\n",
    "        {\n",
    "            \"fn\" : \"../sampleData/data-pvalue-0.7-fin-min.json\",\n",
    "            \"type\": \"Support endpoints\", # \"Link endpoints\" or \"Support endpoints\"\n",
    "            \"minC3TissueCount\": 1,\n",
    "            \"label\": \"Tissue pcHi-C\",\n",
    "            \"facecolor\": \"yellow\", \n",
    "            \"hatch\": '///////',\n",
    "            \"alpha\": 0.3,\n",
    "        },\n",
    "        {\n",
    "            \"fn\" : \"../sampleData/data-pvalue-10-fin-min.json\",\n",
    "            \"type\": \"Support endpoints\", # \"Link endpoints\" or \"Support endpoints\" or \"Triangle endpoints\"\n",
    "            \"minC3TissueCount\": 1,\n",
    "            \"label\": \"Tissue Hi-C\",\n",
    "            \"facecolor\": \"black\", \n",
    "            \"hatch\": '\\\\\\\\\\\\\\\\\\\\\\\\',\n",
    "            \"alpha\": 0.3,\n",
    "        }\n",
    "    ],  \n",
    "}\n",
    "template[\"JSONfn\"] = template[\"title\"]+\".json\""
   ]
  },
  {
   "cell_type": "code",
   "execution_count": 90,
   "metadata": {},
   "outputs": [
    {
     "name": "stdout",
     "output_type": "stream",
     "text": [
      "Bases 15 of bases calculated. 3098 bases found\n",
      "Bases 17 of bases calculated. 4771 bases found\n",
      "Bases 18 of bases calculated. 12952 bases found\n"
     ]
    },
    {
     "data": {
      "text/plain": [
       "<Figure size 1600x1000 with 0 Axes>"
      ]
     },
     "metadata": {},
     "output_type": "display_data"
    }
   ],
   "source": [
    "D = Drawer(template)"
   ]
  },
  {
   "cell_type": "code",
   "execution_count": null,
   "metadata": {},
   "outputs": [],
   "source": []
  },
  {
   "cell_type": "code",
   "execution_count": null,
   "metadata": {},
   "outputs": [],
   "source": []
  },
  {
   "cell_type": "code",
   "execution_count": null,
   "metadata": {},
   "outputs": [],
   "source": []
  },
  {
   "cell_type": "code",
   "execution_count": null,
   "metadata": {},
   "outputs": [],
   "source": []
  },
  {
   "cell_type": "code",
   "execution_count": null,
   "metadata": {},
   "outputs": [],
   "source": []
  },
  {
   "cell_type": "code",
   "execution_count": null,
   "metadata": {},
   "outputs": [],
   "source": []
  },
  {
   "cell_type": "code",
   "execution_count": null,
   "metadata": {},
   "outputs": [],
   "source": []
  },
  {
   "cell_type": "code",
   "execution_count": null,
   "metadata": {},
   "outputs": [],
   "source": []
  },
  {
   "cell_type": "code",
   "execution_count": null,
   "metadata": {},
   "outputs": [],
   "source": []
  },
  {
   "cell_type": "code",
   "execution_count": null,
   "metadata": {},
   "outputs": [],
   "source": []
  },
  {
   "cell_type": "code",
   "execution_count": null,
   "metadata": {},
   "outputs": [],
   "source": []
  }
 ],
 "metadata": {
  "kernelspec": {
   "display_name": "base",
   "language": "python",
   "name": "python3"
  },
  "language_info": {
   "codemirror_mode": {
    "name": "ipython",
    "version": 3
   },
   "file_extension": ".py",
   "mimetype": "text/x-python",
   "name": "python",
   "nbconvert_exporter": "python",
   "pygments_lexer": "ipython3",
   "version": "3.9.13"
  },
  "orig_nbformat": 4
 },
 "nbformat": 4,
 "nbformat_minor": 2
}
