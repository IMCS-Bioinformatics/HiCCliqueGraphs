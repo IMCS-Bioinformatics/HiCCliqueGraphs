{
 "cells": [
  {
   "cell_type": "code",
   "execution_count": 28,
   "metadata": {},
   "outputs": [],
   "source": [
    "from universal import UniversalDS, ChrData\n",
    "from topologicalFeatures import Cliques, Bases, BasesOfBases\n"
   ]
  },
  {
   "cell_type": "code",
   "execution_count": 29,
   "metadata": {},
   "outputs": [],
   "source": [
    "U = UniversalDS(\"../sampleData/data-pvalue-5-fin-min.json\")\n",
    "R = UniversalDS(\"../sampleData/data-pvalue-5-fin-minRND.json\")\n",
    "U.DS = \"Blood cell pcHi-C\"\n",
    "\n",
    "# U = UniversalDS(\"../sampleData/data-pvalue-0.7-fin-min.json\")\n",
    "# R = UniversalDS(\"../sampleData/data-pvalue-0.7-fin-minRND.json\")\n",
    "# U.DS = \"Tissue pcHi-C\"\n",
    "\n",
    "# U = UniversalDS(\"../sampleData/data-pvalue-10-fin-min.json\")\n",
    "# R = UniversalDS(\"../sampleData/data-pvalue-10-fin-minRND.json\")\n",
    "# U.DS = \"Tissue Hi-C\"\n",
    "\n"
   ]
  },
  {
   "cell_type": "code",
   "execution_count": 30,
   "metadata": {},
   "outputs": [],
   "source": [
    "R.DS = \"Randomized \"+U.DS"
   ]
  },
  {
   "cell_type": "code",
   "execution_count": 31,
   "metadata": {},
   "outputs": [],
   "source": [
    "ch = \"chr6\"\n",
    "uChData = ChrData(U, ch=ch)\n",
    "rChData = ChrData(R, ch=ch)"
   ]
  },
  {
   "cell_type": "code",
   "execution_count": 32,
   "metadata": {},
   "outputs": [],
   "source": [
    "import matplotlib.pyplot as plt\n"
   ]
  },
  {
   "cell_type": "code",
   "execution_count": null,
   "metadata": {},
   "outputs": [],
   "source": []
  },
  {
   "cell_type": "code",
   "execution_count": 33,
   "metadata": {},
   "outputs": [],
   "source": [
    "def plotLinkLengths(uChData, uLinks, rChData, rLinks, title=\"\", rr=0.025e8, rbins=80, binx=0):\n",
    "    #Link lengths of original and randomized chr6\n",
    "    #uChData and rChData- ChrData instances with U-original and R-randomized data\n",
    "    #uLinks and rLinks - list of links whose endpoints are to be plotted\n",
    "    #rr - x axis right limit\n",
    "    #rBins - number of bins in histogram\n",
    "    #binx - width of bin in dataset. If 0, it is ignored. If 0, binx is ignored\n",
    "    objectAnalyzed = \"Link Lengths\"\n",
    "    variant=\"All Links\"\n",
    "    fig, ax = plt.subplots()\n",
    "    print(\"start {ch}\".format(ch=ch))\n",
    "\n",
    "    print(len(uLinks), len(rLinks))\n",
    "\n",
    "    linkLengthsU = [abs(uChData.getLinkLength(link)) for link in uLinks if abs(uChData.getLinkLength(link))<=rr]\n",
    "    linkLengthsR = [abs(rChData.getLinkLength(link)) for link in rLinks if abs(rChData.getLinkLength(link))<=rr]\n",
    "    if binx!=0: \n",
    "        maxRBin = max([abs(rChData.getLinkLength(link)) for link in rLinks])\n",
    "        rbins = [0]\n",
    "        i=0\n",
    "        while (i < maxRBin):\n",
    "            i+=1*binx\n",
    "            rbins.append(i+1)\n",
    "    print(rbins)\n",
    "\n",
    "\n",
    "            \n",
    "    print(len(linkLengthsU), len(linkLengthsR))\n",
    "    print(max([abs(uChData.getLinkLength(link)) for link in uLinks]), \"max original link\")\n",
    "    print(max([abs(rChData.getLinkLength(link)) for link in rLinks]), \"max randomized link\")\n",
    "    print(min([abs(uChData.getLinkLength(link)) for link in uLinks]), \"min original link\")\n",
    "    print(min([abs(rChData.getLinkLength(link)) for link in rLinks]), \"min randomized link\")\n",
    "    ax.hist(x=linkLengthsU, bins=rbins, histtype='step', label='Real link lengths', linewidth=2)\n",
    "    ax.hist(x=linkLengthsR, bins=rbins, histtype='step', label='Randomized link lengths', linewidth=2)\n",
    "    ax.set_xlim(right=rr, left=0)\n",
    "\n",
    "\n",
    "    ax.set_title(\"{ch}\".format(ch=ch))\n",
    "    ax.tick_params(labelsize=24)\n",
    "    # axs[num[0], num[1]].set_ylim(ymin=0, ymax=maxVal)\n",
    "    # axs[num[0], num[1]].set_xlim(xmin=0, xmax=maxVal)\n",
    "    # axs[num[0], num[1]].plot([0,maxVal], [0,maxVal])\n",
    "\n",
    "    ax.legend(loc=\"upper right\")\n",
    "\n",
    "    ax.set(xlabel='Link length in Mbp')\n",
    "    ax.xaxis.label.set_fontsize(28)\n",
    "    ax.set(ylabel='Link count')\n",
    "    ax.yaxis.label.set_fontsize(28)\n",
    "    fig.suptitle(title, size=32)\n",
    "    fig.set_size_inches(16.,10.)\n",
    "    #plt.savefig('{oa}-{v}-compare-randomized-{o}-vs-{r}.png'.format(oa=objectAnalyzed, v=variant, o=U.DS, r=R.DS), dpi=300)\n",
    "    plt.savefig('IMG-{title}.png'.format(title=title), dpi=600)\n",
    "    plt.savefig('IMG-{title}.svg'.format(title=title))\n",
    "    plt.savefig('IMG-{title}.pdf'.format(title=title), dpi=800)\n",
    "    #plt.show()\n",
    "    plt.clf()"
   ]
  },
  {
   "cell_type": "code",
   "execution_count": 34,
   "metadata": {},
   "outputs": [
    {
     "name": "stdout",
     "output_type": "stream",
     "text": [
      "start chr6\n",
      "47834 47834\n",
      "80\n",
      "44560 44162\n",
      "170572582 max original link\n",
      "170572582 max randomized link\n",
      "2452 min original link\n",
      "1477 min randomized link\n"
     ]
    },
    {
     "data": {
      "text/plain": [
       "<Figure size 1600x1000 with 0 Axes>"
      ]
     },
     "metadata": {},
     "output_type": "display_data"
    }
   ],
   "source": [
    "if U.DS!=\"Blood cell pcHi-C\":\n",
    "    #To fix binning inconsistency\n",
    "    plotLinkLengths(uChData=uChData, uLinks=uChData.links, rChData=rChData, rLinks=rChData.links, title=f\"Link lengths in {U.DS}\", rr=0.025e8, binx=25000) #plots randomized vs real link lengths\n",
    "else: plotLinkLengths(uChData=uChData, uLinks=uChData.links, rChData=rChData, rLinks=rChData.links, title=f\"Link lengths in {U.DS}\", rr=0.025e8) #plots randomized vs real link lengths"
   ]
  },
  {
   "cell_type": "code",
   "execution_count": null,
   "metadata": {},
   "outputs": [],
   "source": []
  },
  {
   "cell_type": "code",
   "execution_count": 35,
   "metadata": {},
   "outputs": [],
   "source": [
    "# ch = \"chr6\"\n",
    "# uuChData = ChrData(U, ch=ch, tissueMask=3)\n",
    "# rrChData = ChrData(R, ch=ch, tissueMask=3)\n",
    "# deg = 2\n",
    "# CU = Cliques(owner=uuChData, minC3TissueCount=deg)\n",
    "# CR = Cliques(owner=rrChData, minC3TissueCount=deg)\n",
    "\n",
    "# cuLinks = CU.getLinks()\n",
    "# crLinks = CR.getLinks()\n",
    "# iii=9\n",
    "# plotLinkLengths(uChData=uuChData, uLinks=cuLinks, rChData=rrChData, rLinks=crLinks, title=f\"NoTitle-Triangles-{deg}\", rr=0.025e8) #plots randomized vs real link lengths of C3 with deg tissues"
   ]
  },
  {
   "cell_type": "code",
   "execution_count": 36,
   "metadata": {},
   "outputs": [
    {
     "name": "stdout",
     "output_type": "stream",
     "text": [
      "start chr6\n",
      "173304 111480\n",
      "80\n",
      "160079 102028\n",
      "162832229 max original link\n",
      "162832229 max randomized link\n",
      "2452 min original link\n",
      "1477 min randomized link\n"
     ]
    },
    {
     "data": {
      "text/plain": [
       "<Figure size 1600x1000 with 0 Axes>"
      ]
     },
     "metadata": {},
     "output_type": "display_data"
    }
   ],
   "source": [
    "deg = 1\n",
    "CU = Cliques(owner=uChData, minC3TissueCount=deg)\n",
    "CR = Cliques(owner=rChData, minC3TissueCount=deg)\n",
    "cuLinks = CU.getLinksList()\n",
    "crLinks = CR.getLinksList()\n",
    "if U.DS!=\"Blood cell pcHi-C\":\n",
    "    plotLinkLengths(uChData=uChData, uLinks=cuLinks, rChData=rChData, rLinks=crLinks, title=f\"Link lengths of C3 with {deg}+ tissues in {U.DS}\", rr=0.025e8, binx=25000) #plots randomized vs real link lengths of C3 with deg tissues\n",
    "else: plotLinkLengths(uChData=uChData, uLinks=cuLinks, rChData=rChData, rLinks=crLinks, title=f\"Link lengths of C3 with {deg}+ tissues in {U.DS}\", rr=0.025e8) #plots randomized vs real link lengths of C3 with deg tissues"
   ]
  },
  {
   "cell_type": "code",
   "execution_count": 37,
   "metadata": {},
   "outputs": [
    {
     "name": "stdout",
     "output_type": "stream",
     "text": [
      "start chr6\n",
      "97992 55680\n",
      "80\n",
      "93292 52209\n",
      "162831356 max original link\n",
      "162805021 max randomized link\n",
      "3015 min original link\n",
      "1477 min randomized link\n"
     ]
    },
    {
     "data": {
      "text/plain": [
       "<Figure size 1600x1000 with 0 Axes>"
      ]
     },
     "metadata": {},
     "output_type": "display_data"
    }
   ],
   "source": [
    "deg = 2\n",
    "CU = Cliques(owner=uChData, minC3TissueCount=deg)\n",
    "CR = Cliques(owner=rChData, minC3TissueCount=deg)\n",
    "cuLinks = CU.getLinksList()\n",
    "crLinks = CR.getLinksList()\n",
    "if U.DS!=\"Blood cell pcHi-C\":\n",
    "    plotLinkLengths(uChData=uChData, uLinks=cuLinks, rChData=rChData, rLinks=crLinks, title=f\"Link lengths of C3 with {deg}+ tissues in {U.DS}\", rr=0.025e8, binx=25000) #plots randomized vs real link lengths of C3 with deg tissues\n",
    "else: plotLinkLengths(uChData=uChData, uLinks=cuLinks, rChData=rChData, rLinks=crLinks, title=f\"Link lengths of C3 with {deg}+ tissues in {U.DS}\", rr=0.025e8) #plots randomized vs real link lengths of C3 with deg tissues"
   ]
  },
  {
   "cell_type": "code",
   "execution_count": 38,
   "metadata": {},
   "outputs": [
    {
     "name": "stdout",
     "output_type": "stream",
     "text": [
      "Bases 15 of bases calculated. 3098 bases found\n",
      "Bases 15 of bases calculated. 1530 bases found\n",
      "start chr6\n",
      "3098 1530\n",
      "80\n",
      "2898 1425\n",
      "65359729 max original link\n",
      "30698939 max randomized link\n",
      "2452 min original link\n",
      "1540 min randomized link\n"
     ]
    },
    {
     "data": {
      "text/plain": [
       "<Figure size 1600x1000 with 0 Axes>"
      ]
     },
     "metadata": {},
     "output_type": "display_data"
    }
   ],
   "source": [
    "bobU = BasesOfBases(uChData)\n",
    "bobR = BasesOfBases(rChData)\n",
    "\n",
    "from numpy import log2\n",
    "baseDeg = int(log2(len(bobU.links)))\n",
    "\n",
    "linksU = bobU.reduce(deg=baseDeg)\n",
    "linksR = bobR.reduce(deg=baseDeg)\n",
    "\n",
    "if U.DS!=\"Blood cell pcHi-C\":\n",
    "    plotLinkLengths(uChData=uChData, uLinks=linksU, rChData=rChData, rLinks=linksR, title=f\"Support S({baseDeg}) in real vs randomized dataset {U.DS}\", rr=0.025e8, binx=25000) #plots randomized vs real link lengths of C3 with deg tissues\n",
    "else: plotLinkLengths(uChData=uChData, uLinks=linksU, rChData=rChData, rLinks=linksR, title=f\"Support S({baseDeg}) in real vs randomized dataset {U.DS}\", rr=0.025e8) #plots randomized vs real link lengths of C3 with deg tissues\n",
    "\n",
    "\n",
    "\n",
    "\n"
   ]
  },
  {
   "cell_type": "code",
   "execution_count": 39,
   "metadata": {},
   "outputs": [],
   "source": [
    "#plotLinkLengths(uChData=uChData, uLinks=cuLinks, rChData=uChData, rLinks=uChData.links, title=\"TrianglesVsLinks\", rr=0.025e8) #plots randomized vs real link lengths of C3 with deg tissues\n"
   ]
  },
  {
   "cell_type": "code",
   "execution_count": null,
   "metadata": {},
   "outputs": [],
   "source": []
  },
  {
   "cell_type": "code",
   "execution_count": null,
   "metadata": {},
   "outputs": [],
   "source": []
  },
  {
   "cell_type": "code",
   "execution_count": null,
   "metadata": {},
   "outputs": [],
   "source": []
  },
  {
   "cell_type": "code",
   "execution_count": null,
   "metadata": {},
   "outputs": [],
   "source": []
  },
  {
   "cell_type": "code",
   "execution_count": null,
   "metadata": {},
   "outputs": [],
   "source": []
  },
  {
   "cell_type": "code",
   "execution_count": null,
   "metadata": {},
   "outputs": [],
   "source": []
  },
  {
   "cell_type": "code",
   "execution_count": null,
   "metadata": {},
   "outputs": [],
   "source": []
  },
  {
   "cell_type": "code",
   "execution_count": null,
   "metadata": {},
   "outputs": [],
   "source": []
  }
 ],
 "metadata": {
  "kernelspec": {
   "display_name": "base",
   "language": "python",
   "name": "python3"
  },
  "language_info": {
   "codemirror_mode": {
    "name": "ipython",
    "version": 3
   },
   "file_extension": ".py",
   "mimetype": "text/x-python",
   "name": "python",
   "nbconvert_exporter": "python",
   "pygments_lexer": "ipython3",
   "version": "3.9.13"
  },
  "orig_nbformat": 4
 },
 "nbformat": 4,
 "nbformat_minor": 2
}
