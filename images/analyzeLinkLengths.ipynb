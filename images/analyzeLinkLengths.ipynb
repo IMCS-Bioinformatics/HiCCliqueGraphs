{
 "cells": [
  {
   "cell_type": "code",
   "execution_count": 5,
   "metadata": {},
   "outputs": [],
   "source": [
    "from universal import UniversalDS, ChrData\n",
    "from topologicalFeatures import Cliques, Bases, BasesOfBases\n"
   ]
  },
  {
   "cell_type": "code",
   "execution_count": 6,
   "metadata": {},
   "outputs": [],
   "source": [
    "# U = UniversalDS(\"../../sampleData/data-pvalue-5-fin-min.json\")\n",
    "# R = UniversalDS(\"../../sampleData/data-pvalue-5-fin-minRND.json\")\n",
    "# U.DS = \"Blood cell pcHi-C\"\n",
    "\n",
    "# U = UniversalDS(\"../../sampleData/data-pvalue-0.7-fin-min.json\")\n",
    "# R = UniversalDS(\"../../sampleData/data-pvalue-0.7-fin-minRND.json\")\n",
    "# U.DS = \"Tissue pcHi-C\"\n",
    "\n",
    "U = UniversalDS(\"../../sampleData/data-pvalue-10-fin-min.json\")\n",
    "R = UniversalDS(\"../../sampleData/data-pvalue-10-fin-minRND.json\")\n",
    "U.DS = \"Tissue Hi-C\"\n",
    "\n"
   ]
  },
  {
   "cell_type": "code",
   "execution_count": 7,
   "metadata": {},
   "outputs": [],
   "source": [
    "R.DS = \"Randomized \"+U.DS"
   ]
  },
  {
   "cell_type": "code",
   "execution_count": 8,
   "metadata": {},
   "outputs": [],
   "source": [
    "ch = \"chr6\"\n",
    "uChData = ChrData(U, ch=ch)\n",
    "rChData = ChrData(R, ch=ch)"
   ]
  },
  {
   "cell_type": "code",
   "execution_count": 9,
   "metadata": {},
   "outputs": [],
   "source": [
    "import matplotlib.pyplot as plt\n"
   ]
  },
  {
   "cell_type": "code",
   "execution_count": null,
   "metadata": {},
   "outputs": [],
   "source": []
  },
  {
   "cell_type": "code",
   "execution_count": 10,
   "metadata": {},
   "outputs": [],
   "source": [
    "def plotLinkLengths(uChData, uLinks, rChData, rLinks, title=\"\", rr=0.025e8, rbins=80, binx=0):\n",
    "    #Link lengths of original and randomized chr6\n",
    "    #uChData and rChData- ChrData instances with U-original and R-randomized data\n",
    "    #uLinks and rLinks - list of links whose endpoints are to be plotted\n",
    "    #rr - x axis right limit\n",
    "    #rBins - number of bins in histogram\n",
    "    #binx - width of bin in dataset. If 0, it is ignored. If 0, binx is ignored\n",
    "    objectAnalyzed = \"Link Lengths\"\n",
    "    variant=\"All Links\"\n",
    "    fig, ax = plt.subplots()\n",
    "    print(\"start {ch}\".format(ch=ch))\n",
    "\n",
    "    print(len(uLinks), len(rLinks))\n",
    "\n",
    "    linkLengthsU = [abs(uChData.getLinkLength(link)) for link in uLinks if abs(uChData.getLinkLength(link))<=rr]\n",
    "    linkLengthsR = [abs(rChData.getLinkLength(link)) for link in rLinks if abs(rChData.getLinkLength(link))<=rr]\n",
    "    if binx!=0: \n",
    "        maxRBin = max([abs(rChData.getLinkLength(link)) for link in rLinks])\n",
    "        rbins = [0]\n",
    "        i=0\n",
    "        while (i < maxRBin):\n",
    "            i+=1*binx\n",
    "            rbins.append(i+1)\n",
    "    print(rbins)\n",
    "\n",
    "\n",
    "            \n",
    "    print(len(linkLengthsU), len(linkLengthsR))\n",
    "    print(max([abs(uChData.getLinkLength(link)) for link in uLinks]), \"max original link\")\n",
    "    print(max([abs(rChData.getLinkLength(link)) for link in rLinks]), \"max randomized link\")\n",
    "    print(min([abs(uChData.getLinkLength(link)) for link in uLinks]), \"min original link\")\n",
    "    print(min([abs(rChData.getLinkLength(link)) for link in rLinks]), \"min randomized link\")\n",
    "    ax.hist(x=linkLengthsU, bins=rbins, histtype='step', label='Real link lengths', linewidth=2)\n",
    "    ax.hist(x=linkLengthsR, bins=rbins, histtype='step', label='Randomized link lengths', linewidth=2)\n",
    "    ax.set_xlim(right=rr, left=0)\n",
    "\n",
    "\n",
    "    ax.set_title(\"{ch}\".format(ch=ch))\n",
    "    ax.tick_params(labelsize=24)\n",
    "    # axs[num[0], num[1]].set_ylim(ymin=0, ymax=maxVal)\n",
    "    # axs[num[0], num[1]].set_xlim(xmin=0, xmax=maxVal)\n",
    "    # axs[num[0], num[1]].plot([0,maxVal], [0,maxVal])\n",
    "\n",
    "    ax.legend(loc=\"upper right\")\n",
    "\n",
    "    ax.set(xlabel='Link length in Mbp')\n",
    "    ax.xaxis.label.set_fontsize(28)\n",
    "    ax.set(ylabel='Link count')\n",
    "    ax.yaxis.label.set_fontsize(28)\n",
    "    fig.suptitle(title, size=32)\n",
    "    fig.set_size_inches(16.,10.)\n",
    "    #plt.savefig('{oa}-{v}-compare-randomized-{o}-vs-{r}.png'.format(oa=objectAnalyzed, v=variant, o=U.DS, r=R.DS), dpi=300)\n",
    "    plt.savefig('IMG-{title}.png'.format(title=title), dpi=600)\n",
    "    plt.savefig('IMG-{title}.svg'.format(title=title))\n",
    "    #plt.show()\n",
    "    plt.clf()"
   ]
  },
  {
   "cell_type": "code",
   "execution_count": 11,
   "metadata": {},
   "outputs": [
    {
     "name": "stdout",
     "output_type": "stream",
     "text": [
      "start chr6\n",
      "266949 266949\n",
      "[0, 25001, 50001, 75001, 100001, 125001, 150001, 175001, 200001, 225001, 250001, 275001, 300001, 325001, 350001, 375001, 400001, 425001, 450001, 475001, 500001, 525001, 550001, 575001, 600001, 625001, 650001, 675001, 700001, 725001, 750001, 775001, 800001, 825001, 850001, 875001, 900001, 925001, 950001, 975001, 1000001, 1025001, 1050001, 1075001, 1100001, 1125001, 1150001, 1175001, 1200001, 1225001, 1250001, 1275001, 1300001, 1325001, 1350001, 1375001, 1400001, 1425001, 1450001, 1475001, 1500001, 1525001, 1550001, 1575001, 1600001, 1625001, 1650001, 1675001, 1700001, 1725001, 1750001, 1775001, 1800001, 1825001, 1850001, 1875001, 1900001, 1925001, 1950001, 1975001, 2000001]\n",
      "266949 266949\n",
      "2000000 max original link\n",
      "2000000 max randomized link\n",
      "20000 min original link\n",
      "5000 min randomized link\n"
     ]
    },
    {
     "data": {
      "text/plain": [
       "<Figure size 1600x1000 with 0 Axes>"
      ]
     },
     "metadata": {},
     "output_type": "display_data"
    }
   ],
   "source": [
    "if U.DS!=\"Blood cell pcHi-C\":\n",
    "    #To fix binning inconsistency\n",
    "    plotLinkLengths(uChData=uChData, uLinks=uChData.links, rChData=rChData, rLinks=rChData.links, title=f\"Link lengths in {U.DS}\", rr=0.025e8, binx=25000) #plots randomized vs real link lengths\n",
    "else: plotLinkLengths(uChData=uChData, uLinks=uChData.links, rChData=rChData, rLinks=rChData.links, title=f\"Link lengths in {U.DS}\", rr=0.025e8) #plots randomized vs real link lengths"
   ]
  },
  {
   "cell_type": "code",
   "execution_count": null,
   "metadata": {},
   "outputs": [],
   "source": []
  },
  {
   "cell_type": "code",
   "execution_count": 12,
   "metadata": {},
   "outputs": [],
   "source": [
    "# ch = \"chr6\"\n",
    "# uuChData = ChrData(U, ch=ch, tissueMask=3)\n",
    "# rrChData = ChrData(R, ch=ch, tissueMask=3)\n",
    "# deg = 2\n",
    "# CU = Cliques(owner=uuChData, minC3TissueCount=deg)\n",
    "# CR = Cliques(owner=rrChData, minC3TissueCount=deg)\n",
    "\n",
    "# cuLinks = CU.getLinks()\n",
    "# crLinks = CR.getLinks()\n",
    "# iii=9\n",
    "# plotLinkLengths(uChData=uuChData, uLinks=cuLinks, rChData=rrChData, rLinks=crLinks, title=f\"NoTitle-Triangles-{deg}\", rr=0.025e8) #plots randomized vs real link lengths of C3 with deg tissues"
   ]
  },
  {
   "cell_type": "code",
   "execution_count": 13,
   "metadata": {},
   "outputs": [
    {
     "name": "stdout",
     "output_type": "stream",
     "text": [
      "start chr6\n",
      "966645 581826\n",
      "[0, 25001, 50001, 75001, 100001, 125001, 150001, 175001, 200001, 225001, 250001, 275001, 300001, 325001, 350001, 375001, 400001, 425001, 450001, 475001, 500001, 525001, 550001, 575001, 600001, 625001, 650001, 675001, 700001, 725001, 750001, 775001, 800001, 825001, 850001, 875001, 900001, 925001, 950001, 975001, 1000001, 1025001, 1050001, 1075001, 1100001, 1125001, 1150001, 1175001, 1200001, 1225001, 1250001, 1275001, 1300001, 1325001, 1350001, 1375001, 1400001, 1425001, 1450001, 1475001, 1500001, 1525001, 1550001, 1575001, 1600001, 1625001, 1650001, 1675001, 1700001, 1725001, 1750001, 1775001, 1800001, 1825001, 1850001, 1875001, 1900001, 1925001, 1950001, 1975001, 2000001]\n",
      "966645 581826\n",
      "2000000 max original link\n",
      "2000000 max randomized link\n",
      "20000 min original link\n",
      "5000 min randomized link\n"
     ]
    },
    {
     "data": {
      "text/plain": [
       "<Figure size 1600x1000 with 0 Axes>"
      ]
     },
     "metadata": {},
     "output_type": "display_data"
    }
   ],
   "source": [
    "deg = 1\n",
    "CU = Cliques(owner=uChData, minC3TissueCount=deg)\n",
    "CR = Cliques(owner=rChData, minC3TissueCount=deg)\n",
    "cuLinks = CU.getLinksList()\n",
    "crLinks = CR.getLinksList()\n",
    "if U.DS!=\"Blood cell pcHi-C\":\n",
    "    plotLinkLengths(uChData=uChData, uLinks=cuLinks, rChData=rChData, rLinks=crLinks, title=f\"Link lengths of C3 with {deg}+ tissues in {U.DS}\", rr=0.025e8, binx=25000) #plots randomized vs real link lengths of C3 with deg tissues\n",
    "else: plotLinkLengths(uChData=uChData, uLinks=cuLinks, rChData=rChData, rLinks=crLinks, title=f\"Link lengths of C3 with {deg}+ tissues in {U.DS}\", rr=0.025e8) #plots randomized vs real link lengths of C3 with deg tissues"
   ]
  },
  {
   "cell_type": "code",
   "execution_count": 14,
   "metadata": {},
   "outputs": [
    {
     "name": "stdout",
     "output_type": "stream",
     "text": [
      "start chr6\n",
      "53070 19761\n",
      "[0, 25001, 50001, 75001, 100001, 125001, 150001, 175001, 200001, 225001, 250001, 275001, 300001, 325001, 350001, 375001, 400001, 425001, 450001, 475001, 500001, 525001, 550001, 575001, 600001, 625001, 650001, 675001, 700001, 725001, 750001, 775001, 800001, 825001, 850001, 875001, 900001, 925001, 950001, 975001, 1000001, 1025001, 1050001, 1075001, 1100001, 1125001, 1150001, 1175001, 1200001, 1225001, 1250001, 1275001, 1300001, 1325001, 1350001, 1375001, 1400001, 1425001, 1450001, 1475001, 1500001, 1525001, 1550001, 1575001, 1600001, 1625001, 1650001, 1675001, 1700001, 1725001, 1750001, 1775001, 1800001, 1825001, 1850001, 1875001, 1900001, 1925001, 1950001, 1975001, 2000001]\n",
      "53070 19761\n",
      "1995000 max original link\n",
      "2000000 max randomized link\n",
      "20000 min original link\n",
      "5000 min randomized link\n"
     ]
    },
    {
     "data": {
      "text/plain": [
       "<Figure size 1600x1000 with 0 Axes>"
      ]
     },
     "metadata": {},
     "output_type": "display_data"
    }
   ],
   "source": [
    "deg = 2\n",
    "CU = Cliques(owner=uChData, minC3TissueCount=deg)\n",
    "CR = Cliques(owner=rChData, minC3TissueCount=deg)\n",
    "cuLinks = CU.getLinksList()\n",
    "crLinks = CR.getLinksList()\n",
    "if U.DS!=\"Blood cell pcHi-C\":\n",
    "    plotLinkLengths(uChData=uChData, uLinks=cuLinks, rChData=rChData, rLinks=crLinks, title=f\"Link lengths of C3 with {deg}+ tissues in {U.DS}\", rr=0.025e8, binx=25000) #plots randomized vs real link lengths of C3 with deg tissues\n",
    "else: plotLinkLengths(uChData=uChData, uLinks=cuLinks, rChData=rChData, rLinks=crLinks, title=f\"Link lengths of C3 with {deg}+ tissues in {U.DS}\", rr=0.025e8) #plots randomized vs real link lengths of C3 with deg tissues"
   ]
  },
  {
   "cell_type": "code",
   "execution_count": 15,
   "metadata": {},
   "outputs": [
    {
     "name": "stdout",
     "output_type": "stream",
     "text": [
      "Bases 18 of bases calculated. 12952 bases found\n",
      "Bases 18 of bases calculated. 3988 bases found\n",
      "start chr6\n",
      "12952 3988\n",
      "[0, 25001, 50001, 75001, 100001, 125001, 150001, 175001, 200001, 225001, 250001, 275001, 300001, 325001, 350001, 375001, 400001, 425001, 450001, 475001, 500001, 525001, 550001, 575001, 600001, 625001, 650001, 675001, 700001, 725001, 750001, 775001, 800001, 825001, 850001, 875001, 900001, 925001, 950001, 975001, 1000001, 1025001, 1050001, 1075001, 1100001, 1125001, 1150001, 1175001, 1200001, 1225001, 1250001, 1275001, 1300001, 1325001, 1350001, 1375001, 1400001, 1425001, 1450001, 1475001, 1500001, 1525001, 1550001, 1575001, 1600001, 1625001, 1650001, 1675001, 1700001, 1725001, 1750001, 1775001, 1800001, 1825001, 1850001, 1875001, 1900001, 1925001, 1950001, 1975001, 2000001]\n",
      "12952 3988\n",
      "1995000 max original link\n",
      "1980000 max randomized link\n",
      "20000 min original link\n",
      "5000 min randomized link\n"
     ]
    },
    {
     "data": {
      "text/plain": [
       "<Figure size 1600x1000 with 0 Axes>"
      ]
     },
     "metadata": {},
     "output_type": "display_data"
    }
   ],
   "source": [
    "bobU = BasesOfBases(uChData)\n",
    "bobR = BasesOfBases(rChData)\n",
    "\n",
    "from numpy import log2\n",
    "baseDeg = int(log2(len(bobU.links)))\n",
    "\n",
    "linksU = bobU.reduce(deg=baseDeg)\n",
    "linksR = bobR.reduce(deg=baseDeg)\n",
    "\n",
    "if U.DS!=\"Blood cell pcHi-C\":\n",
    "    plotLinkLengths(uChData=uChData, uLinks=linksU, rChData=rChData, rLinks=linksR, title=f\"Support S({baseDeg}) in real vs randomized dataset {U.DS}\", rr=0.025e8, binx=25000) #plots randomized vs real link lengths of C3 with deg tissues\n",
    "else: plotLinkLengths(uChData=uChData, uLinks=linksU, rChData=rChData, rLinks=linksR, title=f\"Support S({baseDeg}) in real vs randomized dataset {U.DS}\", rr=0.025e8) #plots randomized vs real link lengths of C3 with deg tissues\n",
    "\n",
    "\n",
    "\n",
    "\n"
   ]
  },
  {
   "cell_type": "code",
   "execution_count": 16,
   "metadata": {},
   "outputs": [],
   "source": [
    "#plotLinkLengths(uChData=uChData, uLinks=cuLinks, rChData=uChData, rLinks=uChData.links, title=\"TrianglesVsLinks\", rr=0.025e8) #plots randomized vs real link lengths of C3 with deg tissues\n"
   ]
  },
  {
   "cell_type": "code",
   "execution_count": null,
   "metadata": {},
   "outputs": [],
   "source": []
  },
  {
   "cell_type": "code",
   "execution_count": null,
   "metadata": {},
   "outputs": [],
   "source": []
  },
  {
   "cell_type": "code",
   "execution_count": null,
   "metadata": {},
   "outputs": [],
   "source": []
  },
  {
   "cell_type": "code",
   "execution_count": null,
   "metadata": {},
   "outputs": [],
   "source": []
  },
  {
   "cell_type": "code",
   "execution_count": null,
   "metadata": {},
   "outputs": [],
   "source": []
  },
  {
   "cell_type": "code",
   "execution_count": null,
   "metadata": {},
   "outputs": [],
   "source": []
  },
  {
   "cell_type": "code",
   "execution_count": null,
   "metadata": {},
   "outputs": [],
   "source": []
  },
  {
   "cell_type": "code",
   "execution_count": null,
   "metadata": {},
   "outputs": [],
   "source": []
  }
 ],
 "metadata": {
  "kernelspec": {
   "display_name": "base",
   "language": "python",
   "name": "python3"
  },
  "language_info": {
   "codemirror_mode": {
    "name": "ipython",
    "version": 3
   },
   "file_extension": ".py",
   "mimetype": "text/x-python",
   "name": "python",
   "nbconvert_exporter": "python",
   "pygments_lexer": "ipython3",
   "version": "3.9.13"
  },
  "orig_nbformat": 4
 },
 "nbformat": 4,
 "nbformat_minor": 2
}
