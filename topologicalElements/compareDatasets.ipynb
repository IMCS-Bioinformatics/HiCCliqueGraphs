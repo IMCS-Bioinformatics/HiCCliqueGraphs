{
 "cells": [
  {
   "attachments": {},
   "cell_type": "markdown",
   "metadata": {},
   "source": [
    "# This notebook demonstrates the comparison of datasets. The comparison is based on C3 and S(k)"
   ]
  },
  {
   "attachments": {},
   "cell_type": "markdown",
   "metadata": {},
   "source": [
    "Imports"
   ]
  },
  {
   "cell_type": "code",
   "execution_count": null,
   "metadata": {},
   "outputs": [],
   "source": [
    "from universal import UniversalDS, ChrData\n",
    "from topologicalFeatures import Cliques, Bases, BasesOfBases\n",
    "\n",
    "import matplotlib.pyplot as plt\n",
    "from numpy import log2\n",
    "import csv"
   ]
  },
  {
   "attachments": {},
   "cell_type": "markdown",
   "metadata": {},
   "source": [
    "Read 3 datasets"
   ]
  },
  {
   "cell_type": "code",
   "execution_count": null,
   "metadata": {},
   "outputs": [],
   "source": [
    "A = UniversalDS(\"..\\\\sampleData\\\\data-pvalue-0.7-fin-min.json\")\n",
    "B = UniversalDS(\"..\\\\sampleData\\\\data-pvalue-5-fin-min.json\")\n",
    "C = UniversalDS(\"..\\\\sampleData\\\\data-pvalue-10-fin-min.json\") \n",
    "\n",
    "A.DS = \"Tissue pcHi-C\"\n",
    "B.DS = \"Blood cell pcHi-C\"\n",
    "C.DS = \"Tissue Hi-C\""
   ]
  },
  {
   "attachments": {},
   "cell_type": "markdown",
   "metadata": {},
   "source": [
    "Choose a chromosome to analyze. Files in sampleData contain chr6 and chr15"
   ]
  },
  {
   "cell_type": "code",
   "execution_count": null,
   "metadata": {},
   "outputs": [],
   "source": [
    "ch = \"chr6\""
   ]
  },
  {
   "attachments": {},
   "cell_type": "markdown",
   "metadata": {},
   "source": [
    "Utility function to create a plot"
   ]
  },
  {
   "cell_type": "code",
   "execution_count": null,
   "metadata": {},
   "outputs": [],
   "source": [
    "def plot3DS(linkPointsA, linkPointsB, linkPointsC, \n",
    "            title, ylabel):\n",
    "    title = title\n",
    "    fig, ax = plt.subplots()\n",
    "    print(\"start {ch}\".format(ch=ch))\n",
    "    bins = 250\n",
    "    ax.hist(x=linkPointsA, bins=bins, histtype='step', label=A.DS, fill=True, alpha=.3, density=True, facecolor=\"red\", hatch='-----', linewidth=0.1, edgecolor=\"black\")\n",
    "    ax.hist(x=linkPointsB, bins=bins, histtype='step', label=B.DS, fill=True, alpha=.3, density=True, facecolor=\"black\", hatch='\\\\\\\\\\\\\\\\\\\\', linewidth=0.1, edgecolor=\"black\")\n",
    "    ax.hist(x=linkPointsC, bins=bins, histtype='step', label=C.DS, fill=True, alpha=.4, density=True, facecolor=\"blue\", hatch='//////', linewidth=0.1, edgecolor=\"black\")\n",
    "    ax.set_xlim(left=0)\n",
    "    ax.ticklabel_format(axis='x', scilimits=(6,6) )\n",
    "    ax.set_title(\"{ch}\".format(ch=ch))\n",
    "    ax.tick_params(labelsize=16)\n",
    "    ax.legend(loc=\"upper right\")\n",
    "    ax.set(xlabel='Loci in Mbp')\n",
    "    ax.set(ylabel=ylabel)\n",
    "    fig.suptitle(title, size=18)\n",
    "    fig.set_size_inches(16.,10.)\n",
    "    #plt.savefig('{oa}-{v}-compare-randomized-{o}-vs-{r}.png'.format(oa=objectAnalyzed, v=variant, o=U.DS, r=R.DS), dpi=300)\n",
    "    plt.savefig('IMG-{title}.png'.format(title=title), dpi=600)\n",
    "    plt.savefig('IMG-{title}.svg'.format(title=title), dpi=600)\n",
    "    #plt.show()\n",
    "    plt.clf()"
   ]
  },
  {
   "attachments": {},
   "cell_type": "markdown",
   "metadata": {},
   "source": [
    "Plot link endpoint loci in 3 datasets"
   ]
  },
  {
   "cell_type": "code",
   "execution_count": null,
   "metadata": {},
   "outputs": [],
   "source": [
    "aChData = ChrData(A, ch)\n",
    "bChData = ChrData(B, ch)\n",
    "cChData = ChrData(C, ch)\n",
    "\n",
    "aLinks = aChData.allLinks\n",
    "linkPointsA = [aChData.segmentIndToMidpoint[el[0]] for el in aLinks] +\\\n",
    "                [aChData.segmentIndToMidpoint[el[1]] for el in aLinks]\n",
    "\n",
    "bLinks = bChData.allLinks\n",
    "linkPointsB = [bChData.segmentIndToMidpoint[el[0]] for el in bLinks] +\\\n",
    "                [bChData.segmentIndToMidpoint[el[1]] for el in bLinks]\n",
    "\n",
    "cLinks = cChData.allLinks\n",
    "linkPointsC = [cChData.segmentIndToMidpoint[el[0]] for el in cLinks] +\\\n",
    "                [cChData.segmentIndToMidpoint[el[1]] for el in cLinks]\n",
    "\n",
    "plot3DS(linkPointsA, linkPointsB, linkPointsC,\n",
    "        title=\"Link loci in different datasets\",\n",
    "        ylabel='Normalized count of link endpoints')"
   ]
  },
  {
   "attachments": {},
   "cell_type": "markdown",
   "metadata": {},
   "source": [
    "Calculate and plot C3 endpoint loci"
   ]
  },
  {
   "cell_type": "code",
   "execution_count": null,
   "metadata": {},
   "outputs": [],
   "source": [
    "A3 = Cliques(aChData, minC3TissueCount=1)\n",
    "aLinks = A3.getLinksList()\n",
    "linkPointsA = [aChData.segmentIndToMidpoint[el[0]] for el in aLinks] +\\\n",
    "                [aChData.segmentIndToMidpoint[el[1]] for el in aLinks]\n",
    "\n",
    "B3 = Cliques(bChData, minC3TissueCount=1)\n",
    "bLinks = B3.getLinksList()\n",
    "linkPointsB = [bChData.segmentIndToMidpoint[el[0]] for el in bLinks] +\\\n",
    "                [bChData.segmentIndToMidpoint[el[1]] for el in bLinks]\n",
    "\n",
    "C3 = Cliques(cChData, minC3TissueCount=1)\n",
    "cLinks = C3.getLinksList()\n",
    "linkPointsC = [cChData.segmentIndToMidpoint[el[0]] for el in cLinks] +\\\n",
    "                [cChData.segmentIndToMidpoint[el[1]] for el in cLinks]\n",
    "\n",
    "plot3DS(linkPointsA, linkPointsB, linkPointsC,\n",
    "        title=\"C3 loci in different datasets\",\n",
    "        ylabel='Normalized count of C3 endpoints')"
   ]
  },
  {
   "attachments": {},
   "cell_type": "markdown",
   "metadata": {},
   "source": [
    "Calculate and plot support S(k) "
   ]
  },
  {
   "cell_type": "code",
   "execution_count": null,
   "metadata": {},
   "outputs": [],
   "source": [
    "bobA = BasesOfBases(aChData) \n",
    "bobB = BasesOfBases(bChData) #In code, supports are called 'bases' for historical reasons\n",
    "bobC = BasesOfBases(cChData)\n",
    "\n",
    "\n",
    "baseDeg = int(log2(len(bobA.links)))\n",
    "aLinks = bobA.reduce(baseDeg)\n",
    "linkPointsA = [aChData.segmentIndToMidpoint[el[0]] for el in aLinks] +\\\n",
    "                [aChData.segmentIndToMidpoint[el[1]] for el in aLinks]\n",
    "\n",
    "baseDeg = int(log2(len(bobB.links)))\n",
    "bLinks = bobB.reduce(baseDeg)\n",
    "linkPointsB = [bChData.segmentIndToMidpoint[el[0]] for el in bLinks] +\\\n",
    "                [bChData.segmentIndToMidpoint[el[1]] for el in bLinks]\n",
    "\n",
    "baseDeg = int(log2(len(bobC.links)))\n",
    "cLinks = bobC.reduce(baseDeg)\n",
    "linkPointsC = [cChData.segmentIndToMidpoint[el[0]] for el in cLinks] +\\\n",
    "                [cChData.segmentIndToMidpoint[el[1]] for el in cLinks]\n",
    "\n",
    "plot3DS(linkPointsA, linkPointsB, linkPointsC,\n",
    "        title=\"S(k) loci in different datasets\",\n",
    "        ylabel='Normalized count of S(k) endpoints')"
   ]
  },
  {
   "cell_type": "code",
   "execution_count": null,
   "metadata": {},
   "outputs": [],
   "source": []
  },
  {
   "attachments": {},
   "cell_type": "markdown",
   "metadata": {},
   "source": [
    "Table generation with counts of different elements.\n",
    "For 2 chromsomes of the 3 sample datasets this is expected to run for ~1min"
   ]
  },
  {
   "cell_type": "code",
   "execution_count": null,
   "metadata": {},
   "outputs": [],
   "source": [
    "L = []\n",
    "header = [\"Chr\"]\n",
    "for obj in [\"Links\", \"C3-deg1\", \"C3-deg2\", \"S(log(links))\", \"S(16)\"]:\n",
    "    for ds in [A,B,C]:\n",
    "        header.append(f\"{obj} in {ds.DS}\")\n",
    "for c in A.chrs:\n",
    "    print(f\"Processing {c}\")\n",
    "    row = [c]\n",
    "    #link count\n",
    "    for ds in [A,B,C]:\n",
    "        chData = ChrData(ds, ch=c)\n",
    "        row.append(len(chData.allLinks))\n",
    "    #C3 with 1 tissue\n",
    "    for ds in [A,B,C]:\n",
    "        chData = ChrData(ds, ch=c)\n",
    "        C3 = Cliques(chData, minC3TissueCount=1)\n",
    "        row.append(len(C3.allCliques))\n",
    "    #C3 with 2 tissues\n",
    "    for ds in [A,B,C]:\n",
    "        chData = ChrData(ds, ch=c)\n",
    "        C3 = Cliques(chData, minC3TissueCount=2)\n",
    "        row.append(len(C3.allCliques))\n",
    "    #S(log(links))\n",
    "    for ds in [A,B,C]:\n",
    "        chData = ChrData(ds, ch=c)\n",
    "        bobC = BasesOfBases(chData)\n",
    "        baseDeg = int(log2(len(bobC.links)))\n",
    "        links = bobC.reduce(baseDeg)\n",
    "        row.append(len(links))\n",
    "    #S(16)\n",
    "    for ds in [A,B,C]:\n",
    "        chData = ChrData(ds, ch=c)\n",
    "        bobC = BasesOfBases(chData)\n",
    "        baseDeg = 16\n",
    "        links = bobC.reduce(baseDeg)\n",
    "        row.append(len(links))\n",
    "    L.append(row)\n",
    "\n",
    "with open('elementCountsTable.csv', 'w', encoding='UTF8', newline='') as f:\n",
    "    writer = csv.writer(f)\n",
    "    writer.writerow(header)\n",
    "    writer.writerows(L)\n",
    "\n",
    "\n"
   ]
  },
  {
   "cell_type": "code",
   "execution_count": null,
   "metadata": {},
   "outputs": [],
   "source": []
  }
 ],
 "metadata": {
  "kernelspec": {
   "display_name": "base",
   "language": "python",
   "name": "python3"
  },
  "language_info": {
   "codemirror_mode": {
    "name": "ipython",
    "version": 3
   },
   "file_extension": ".py",
   "mimetype": "text/x-python",
   "name": "python",
   "nbconvert_exporter": "python",
   "pygments_lexer": "ipython3",
   "version": "3.9.13"
  },
  "orig_nbformat": 4
 },
 "nbformat": 4,
 "nbformat_minor": 2
}
